{
 "cells": [
  {
   "cell_type": "code",
   "execution_count": 1,
   "id": "71c5e939-abf4-4576-aca4-8568f64feee8",
   "metadata": {},
   "outputs": [],
   "source": [
    "# Import model & datasets load\n",
    "import numpy as np\n",
    "import warnings\n",
    "warnings.filterwarnings('ignore')\n",
    "\n",
    "# Some Scikit-learn function\n",
    "from sklearn.metrics import accuracy_score\n",
    "from tensorflow.keras.datasets import reuters\n",
    "from tensorflow.keras.preprocessing.sequence import pad_sequences\n",
    "from tensorflow.keras.utils import to_categorical"
   ]
  },
  {
   "cell_type": "code",
   "execution_count": 2,
   "id": "a56e7ac1-9545-41c0-ab73-17c45fac9e13",
   "metadata": {},
   "outputs": [],
   "source": [
    "# Parameters\n",
    "num_words = 30000\n",
    "mxlen = 50\n",
    "test_split = 0.2#Train split = 0.8"
   ]
  },
  {
   "cell_type": "code",
   "execution_count": 3,
   "id": "dbd245d6-8636-4da7-be47-b36d0e04dbbc",
   "metadata": {},
   "outputs": [],
   "source": [
    "(x_train, y_train), (x_test, y_test) = reuters.load_data(num_words=num_words, test_split=test_split)"
   ]
  },
  {
   "cell_type": "code",
   "execution_count": 4,
   "id": "d2b448b5-e06e-48bc-87b4-b8c1c2e6911c",
   "metadata": {},
   "outputs": [],
   "source": [
    "x_train = pad_sequences(x_train, padding='post')\n",
    "x_test = pad_sequences(x_test, padding='post')"
   ]
  },
  {
   "cell_type": "code",
   "execution_count": 5,
   "id": "f2c86e2d-bab7-4612-a880-2e60bb0a508a",
   "metadata": {},
   "outputs": [],
   "source": [
    "x_train = np.array(x_train).reshape((x_train.shape[0], x_train.shape[1], 1))\n",
    "x_test = np.array(x_test).reshape((x_test.shape[0], x_test.shape[1], 1))"
   ]
  },
  {
   "cell_type": "code",
   "execution_count": 6,
   "id": "c23209bb-38ea-4ce0-9917-8ce5583e8b40",
   "metadata": {},
   "outputs": [],
   "source": [
    "#print(x_train[0]) # Without padding = 'post'\n",
    "#print(x_train[0]) # With padding = 'post'"
   ]
  },
  {
   "cell_type": "code",
   "execution_count": 7,
   "id": "0c128ef4-30db-4cdc-a9df-7cdb69dd45eb",
   "metadata": {},
   "outputs": [],
   "source": [
    "y_data = np.concatenate((y_train, y_test))\n",
    "y_data = to_categorical(y_data)"
   ]
  },
  {
   "cell_type": "code",
   "execution_count": 8,
   "id": "cf1152eb-0804-4b9a-8cf0-bb241d69c816",
   "metadata": {},
   "outputs": [],
   "source": [
    "y_train =  y_data[:8982]\n",
    "y_test = y_data[8982:]"
   ]
  },
  {
   "cell_type": "code",
   "execution_count": 9,
   "id": "e5044b4c-2907-4979-864f-5480b03b486d",
   "metadata": {},
   "outputs": [
    {
     "name": "stdout",
     "output_type": "stream",
     "text": [
      "(8982, 2376, 1)\n",
      "\n",
      "(2246, 1032, 1)\n",
      "\n",
      "(8982, 46)\n",
      "\n",
      "(2246, 46)\n"
     ]
    }
   ],
   "source": [
    "print(x_train.shape)\n",
    "print()\n",
    "print(x_test.shape)\n",
    "print()\n",
    "print(y_train.shape)\n",
    "print()\n",
    "print(y_test.shape)"
   ]
  },
  {
   "cell_type": "markdown",
   "id": "254d9b68-e729-4959-bf3f-2d131cbbc57b",
   "metadata": {},
   "source": [
    "### Vanilla RNN"
   ]
  },
  {
   "cell_type": "code",
   "execution_count": 10,
   "id": "e695f46e-609e-402a-854e-6300ad66ba0f",
   "metadata": {},
   "outputs": [],
   "source": [
    "from tensorflow.keras.models import Sequential\n",
    "from tensorflow.keras.layers import Dense, SimpleRNN, Activation\n",
    "from tensorflow.keras import optimizers\n",
    "from tensorflow.keras.wrappers.scikit_learn import KerasClassifier"
   ]
  },
  {
   "cell_type": "code",
   "execution_count": 11,
   "id": "2f045739-614f-4166-ab6a-601bad131142",
   "metadata": {},
   "outputs": [],
   "source": [
    "def vanilla_RNN():\n",
    "    model = Sequential()\n",
    "    model.add(SimpleRNN(50, input_shape = (49, 1), return_sequences = False))\n",
    "    model.add(Dense(46))\n",
    "    model.add(Activation('softmax'))\n",
    "    \n",
    "    adam_optimizer = optimizers.Adam(learning_rate=0.001)\n",
    "    model.compile(loss = \"categorical_crossentropy\", optimizer = adam_optimizer, metrics=['accuracy'])\n",
    "    \n",
    "    return model"
   ]
  },
  {
   "cell_type": "code",
   "execution_count": 12,
   "id": "472cc154-5722-44de-89a0-81f28d4b0378",
   "metadata": {},
   "outputs": [],
   "source": [
    "model = KerasClassifier(build_fn=vanilla_RNN, epochs = 10, batch_size = 100)"
   ]
  },
  {
   "cell_type": "code",
   "execution_count": 13,
   "id": "6ede7333-e904-4560-aa34-2853ba50eb38",
   "metadata": {},
   "outputs": [
    {
     "name": "stdout",
     "output_type": "stream",
     "text": [
      "Epoch 1/10\n",
      "WARNING:tensorflow:Model was constructed with shape (None, 49, 1) for input KerasTensor(type_spec=TensorSpec(shape=(None, 49, 1), dtype=tf.float32, name='simple_rnn_input'), name='simple_rnn_input', description=\"created by layer 'simple_rnn_input'\"), but it was called on an input with incompatible shape (None, 2376, 1).\n",
      "WARNING:tensorflow:Model was constructed with shape (None, 49, 1) for input KerasTensor(type_spec=TensorSpec(shape=(None, 49, 1), dtype=tf.float32, name='simple_rnn_input'), name='simple_rnn_input', description=\"created by layer 'simple_rnn_input'\"), but it was called on an input with incompatible shape (None, 2376, 1).\n",
      "90/90 [==============================] - 39s 413ms/step - loss: 2.6696 - accuracy: 0.3253\n",
      "Epoch 2/10\n",
      "90/90 [==============================] - 38s 423ms/step - loss: 2.4072 - accuracy: 0.3517\n",
      "Epoch 3/10\n",
      "90/90 [==============================] - 39s 429ms/step - loss: 2.4072 - accuracy: 0.3517\n",
      "Epoch 4/10\n",
      "90/90 [==============================] - 38s 424ms/step - loss: 2.4082 - accuracy: 0.3517\n",
      "Epoch 5/10\n",
      "90/90 [==============================] - 38s 425ms/step - loss: 2.4074 - accuracy: 0.3517\n",
      "Epoch 6/10\n",
      "90/90 [==============================] - 38s 420ms/step - loss: 2.4074 - accuracy: 0.3518\n",
      "Epoch 7/10\n",
      "90/90 [==============================] - 40s 444ms/step - loss: 2.4094 - accuracy: 0.3518\n",
      "Epoch 8/10\n",
      "90/90 [==============================] - 40s 443ms/step - loss: 2.4074 - accuracy: 0.3518\n",
      "Epoch 9/10\n",
      "90/90 [==============================] - 38s 417ms/step - loss: 2.4077 - accuracy: 0.3518\n",
      "Epoch 10/10\n",
      "90/90 [==============================] - 38s 421ms/step - loss: 2.4090 - accuracy: 0.3518\n"
     ]
    },
    {
     "data": {
      "text/plain": [
       "<tensorflow.python.keras.callbacks.History at 0x190015e02e0>"
      ]
     },
     "execution_count": 13,
     "metadata": {},
     "output_type": "execute_result"
    }
   ],
   "source": [
    "model.fit(x_train, y_train)"
   ]
  },
  {
   "cell_type": "code",
   "execution_count": 14,
   "id": "073cfe82-ff5f-48bc-a491-2ff3488fb39b",
   "metadata": {},
   "outputs": [
    {
     "name": "stdout",
     "output_type": "stream",
     "text": [
      "WARNING:tensorflow:Model was constructed with shape (None, 49, 1) for input KerasTensor(type_spec=TensorSpec(shape=(None, 49, 1), dtype=tf.float32, name='simple_rnn_input'), name='simple_rnn_input', description=\"created by layer 'simple_rnn_input'\"), but it was called on an input with incompatible shape (None, 1032, 1).\n"
     ]
    }
   ],
   "source": [
    "y_pred = model.predict(x_test)\n",
    "y_test_ = np.argmax(y_test, axis=1)"
   ]
  },
  {
   "cell_type": "code",
   "execution_count": 15,
   "id": "6161a20d-3672-46fc-80b5-fbefb76c550f",
   "metadata": {},
   "outputs": [
    {
     "name": "stdout",
     "output_type": "stream",
     "text": [
      "Accuracy:  0.3619768477292965\n"
     ]
    }
   ],
   "source": [
    "print(\"Accuracy: \", accuracy_score(y_pred, y_test_))"
   ]
  },
  {
   "cell_type": "markdown",
   "id": "aa93b482-477c-435a-a808-85af9ce91083",
   "metadata": {},
   "source": [
    "### LSTM"
   ]
  },
  {
   "cell_type": "code",
   "execution_count": 16,
   "id": "02977cca-3fef-46e9-afa3-b65a33444818",
   "metadata": {},
   "outputs": [],
   "source": [
    "from tensorflow.keras.layers import LSTM"
   ]
  },
  {
   "cell_type": "code",
   "execution_count": 17,
   "id": "ac00bc6e-1623-4453-954d-452c5cbc5a6c",
   "metadata": {},
   "outputs": [],
   "source": [
    "def LSTM_RNN():\n",
    "    model = Sequential()\n",
    "    model.add(LSTM(50, input_shape = (49, 1), return_sequences = False))\n",
    "    model.add(Dense(46))\n",
    "    model.add(Activation('softmax'))\n",
    "    \n",
    "    adam_optimizer = optimizers.Adam(learning_rate=0.001)\n",
    "    model.compile(loss = \"categorical_crossentropy\", optimizer = adam_optimizer, metrics=['accuracy'])\n",
    "    \n",
    "    return model"
   ]
  },
  {
   "cell_type": "code",
   "execution_count": 18,
   "id": "9de1c26c-52f0-4cf4-8c75-a3cc5a274400",
   "metadata": {},
   "outputs": [],
   "source": [
    "model = KerasClassifier(build_fn=LSTM_RNN, epochs = 10, batch_size = 100)"
   ]
  },
  {
   "cell_type": "code",
   "execution_count": 19,
   "id": "0b4b877c-afa1-4ca0-82aa-afea814856f0",
   "metadata": {},
   "outputs": [
    {
     "name": "stdout",
     "output_type": "stream",
     "text": [
      "Epoch 1/10\n",
      "WARNING:tensorflow:Model was constructed with shape (None, 49, 1) for input KerasTensor(type_spec=TensorSpec(shape=(None, 49, 1), dtype=tf.float32, name='lstm_input'), name='lstm_input', description=\"created by layer 'lstm_input'\"), but it was called on an input with incompatible shape (None, 2376, 1).\n",
      "WARNING:tensorflow:Model was constructed with shape (None, 49, 1) for input KerasTensor(type_spec=TensorSpec(shape=(None, 49, 1), dtype=tf.float32, name='lstm_input'), name='lstm_input', description=\"created by layer 'lstm_input'\"), but it was called on an input with incompatible shape (None, 2376, 1).\n",
      "90/90 [==============================] - 259s 3s/step - loss: 2.7653 - accuracy: 0.3483\n",
      "Epoch 2/10\n",
      "90/90 [==============================] - 265s 3s/step - loss: 2.4092 - accuracy: 0.3517\n",
      "Epoch 3/10\n",
      "90/90 [==============================] - 259s 3s/step - loss: 2.4072 - accuracy: 0.3517\n",
      "Epoch 4/10\n",
      "90/90 [==============================] - 262s 3s/step - loss: 2.4069 - accuracy: 0.3517\n",
      "Epoch 5/10\n",
      "90/90 [==============================] - 261s 3s/step - loss: 2.4072 - accuracy: 0.3517\n",
      "Epoch 6/10\n",
      "90/90 [==============================] - 262s 3s/step - loss: 2.4073 - accuracy: 0.3517\n",
      "Epoch 7/10\n",
      "90/90 [==============================] - 261s 3s/step - loss: 2.4075 - accuracy: 0.3517\n",
      "Epoch 8/10\n",
      "90/90 [==============================] - 261s 3s/step - loss: 2.4066 - accuracy: 0.3517\n",
      "Epoch 9/10\n",
      "90/90 [==============================] - 262s 3s/step - loss: 2.4071 - accuracy: 0.3518\n",
      "Epoch 10/10\n",
      "90/90 [==============================] - 260s 3s/step - loss: 2.4058 - accuracy: 0.3518\n"
     ]
    },
    {
     "data": {
      "text/plain": [
       "<tensorflow.python.keras.callbacks.History at 0x19004aee040>"
      ]
     },
     "execution_count": 19,
     "metadata": {},
     "output_type": "execute_result"
    }
   ],
   "source": [
    "model.fit(x_train, y_train)"
   ]
  },
  {
   "cell_type": "code",
   "execution_count": 20,
   "id": "5c200f82-9aa7-434b-9419-514320861d62",
   "metadata": {},
   "outputs": [
    {
     "name": "stdout",
     "output_type": "stream",
     "text": [
      "WARNING:tensorflow:Model was constructed with shape (None, 49, 1) for input KerasTensor(type_spec=TensorSpec(shape=(None, 49, 1), dtype=tf.float32, name='lstm_input'), name='lstm_input', description=\"created by layer 'lstm_input'\"), but it was called on an input with incompatible shape (None, 1032, 1).\n"
     ]
    }
   ],
   "source": [
    "y_pred = model.predict(x_test)\n",
    "y_test_ = np.argmax(y_test, axis=1)"
   ]
  },
  {
   "cell_type": "code",
   "execution_count": 21,
   "id": "88f56e41-598d-415d-9de9-c292a77dbf0d",
   "metadata": {},
   "outputs": [
    {
     "name": "stdout",
     "output_type": "stream",
     "text": [
      "Accuracy:  0.3619768477292965\n"
     ]
    }
   ],
   "source": [
    "print(\"Accuracy: \", accuracy_score(y_pred, y_test_))"
   ]
  },
  {
   "cell_type": "code",
   "execution_count": 22,
   "id": "0f90a295-7fba-481c-9f68-6afc6638befd",
   "metadata": {},
   "outputs": [],
   "source": [
    "def Advance_LSTM_RNN():\n",
    "    model = Sequential()\n",
    "    model.add(LSTM(50, input_shape = (49, 1), return_sequences = True))\n",
    "    model.add(LSTM(50, return_sequences = False))\n",
    "    model.add(Dense(46))\n",
    "    model.add(Activation('softmax'))\n",
    "    \n",
    "    adam_optimizer = optimizers.Adam(learning_rate=0.001)\n",
    "    model.compile(loss = \"categorical_crossentropy\", optimizer = adam_optimizer, metrics=['accuracy'])\n",
    "    \n",
    "    return model"
   ]
  },
  {
   "cell_type": "code",
   "execution_count": 23,
   "id": "ae823122-a47b-4182-8503-05893c034ddf",
   "metadata": {},
   "outputs": [],
   "source": [
    "model = KerasClassifier(build_fn=Advance_LSTM_RNN, epochs = 10, batch_size = 100)"
   ]
  },
  {
   "cell_type": "code",
   "execution_count": 24,
   "id": "f5215aeb-34d7-434b-9b19-fb73d8435572",
   "metadata": {},
   "outputs": [
    {
     "name": "stdout",
     "output_type": "stream",
     "text": [
      "Epoch 1/10\n",
      "WARNING:tensorflow:Model was constructed with shape (None, 49, 1) for input KerasTensor(type_spec=TensorSpec(shape=(None, 49, 1), dtype=tf.float32, name='lstm_1_input'), name='lstm_1_input', description=\"created by layer 'lstm_1_input'\"), but it was called on an input with incompatible shape (None, 2376, 1).\n",
      "WARNING:tensorflow:Model was constructed with shape (None, 49, 1) for input KerasTensor(type_spec=TensorSpec(shape=(None, 49, 1), dtype=tf.float32, name='lstm_1_input'), name='lstm_1_input', description=\"created by layer 'lstm_1_input'\"), but it was called on an input with incompatible shape (None, 2376, 1).\n",
      "90/90 [==============================] - 1379s 15s/step - loss: 2.6973 - accuracy: 0.3478\n",
      "Epoch 2/10\n",
      "90/90 [==============================] - 1394s 15s/step - loss: 2.4093 - accuracy: 0.3517\n",
      "Epoch 3/10\n",
      "90/90 [==============================] - 1402s 16s/step - loss: 2.4079 - accuracy: 0.3517\n",
      "Epoch 4/10\n",
      "90/90 [==============================] - 1400s 16s/step - loss: 2.4087 - accuracy: 0.3517\n",
      "Epoch 5/10\n",
      "90/90 [==============================] - 1413s 16s/step - loss: 2.4060 - accuracy: 0.3517\n",
      "Epoch 6/10\n",
      "90/90 [==============================] - 1424s 16s/step - loss: 2.4068 - accuracy: 0.3517\n",
      "Epoch 7/10\n",
      "90/90 [==============================] - 1404s 16s/step - loss: 2.4082 - accuracy: 0.3517\n",
      "Epoch 8/10\n",
      "90/90 [==============================] - 1410s 16s/step - loss: 2.4069 - accuracy: 0.3517\n",
      "Epoch 9/10\n",
      "90/90 [==============================] - 1422s 16s/step - loss: 2.4076 - accuracy: 0.3518\n",
      "Epoch 10/10\n",
      "90/90 [==============================] - 1396s 16s/step - loss: 2.4088 - accuracy: 0.3517\n"
     ]
    },
    {
     "data": {
      "text/plain": [
       "<tensorflow.python.keras.callbacks.History at 0x19005014490>"
      ]
     },
     "execution_count": 24,
     "metadata": {},
     "output_type": "execute_result"
    }
   ],
   "source": [
    "model.fit(x_train, y_train)"
   ]
  },
  {
   "cell_type": "code",
   "execution_count": null,
   "id": "e1aab7e9-98b8-4557-a7af-4c276596d9d8",
   "metadata": {},
   "outputs": [
    {
     "name": "stdout",
     "output_type": "stream",
     "text": [
      "WARNING:tensorflow:Model was constructed with shape (None, 49, 1) for input KerasTensor(type_spec=TensorSpec(shape=(None, 49, 1), dtype=tf.float32, name='lstm_1_input'), name='lstm_1_input', description=\"created by layer 'lstm_1_input'\"), but it was called on an input with incompatible shape (None, 1032, 1).\n"
     ]
    }
   ],
   "source": [
    "y_pred = model.predict(x_test)\n",
    "y_test_ = np.argmax(y_test, axis=1)\n",
    "print(\"Accuracy: \", accuracy_score(y_pred, y_test_))"
   ]
  },
  {
   "cell_type": "code",
   "execution_count": null,
   "id": "25b24b4f-9269-45a7-ab5a-7f51ec3bf9a1",
   "metadata": {},
   "outputs": [],
   "source": []
  }
 ],
 "metadata": {
  "kernelspec": {
   "display_name": "Python 3",
   "language": "python",
   "name": "python3"
  },
  "language_info": {
   "codemirror_mode": {
    "name": "ipython",
    "version": 3
   },
   "file_extension": ".py",
   "mimetype": "text/x-python",
   "name": "python",
   "nbconvert_exporter": "python",
   "pygments_lexer": "ipython3",
   "version": "3.9.2"
  }
 },
 "nbformat": 4,
 "nbformat_minor": 5
}
